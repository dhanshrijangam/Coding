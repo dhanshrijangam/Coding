{
 "cells": [
  {
   "cell_type": "markdown",
   "id": "b5714e44",
   "metadata": {},
   "source": [
    "# String"
   ]
  },
  {
   "cell_type": "code",
   "execution_count": 1,
   "id": "1858d693",
   "metadata": {},
   "outputs": [],
   "source": [
    "# Strings in python are surrounded by either single quotation marks, or double quotation marks.\n",
    "# You can display a string literal with the print() function:"
   ]
  },
  {
   "cell_type": "code",
   "execution_count": 2,
   "id": "4c521b46",
   "metadata": {},
   "outputs": [
    {
     "name": "stdout",
     "output_type": "stream",
     "text": [
      "Dhanshri Jangam\n",
      "<class 'str'>\n"
     ]
    }
   ],
   "source": [
    "c = \"Dhanshri Jangam\"\n",
    "print(c)\n",
    "print(type(c))"
   ]
  },
  {
   "cell_type": "markdown",
   "id": "ec7cfe02",
   "metadata": {},
   "source": [
    "# String Functions"
   ]
  },
  {
   "cell_type": "code",
   "execution_count": 3,
   "id": "023fa5e3",
   "metadata": {},
   "outputs": [],
   "source": [
    "# Python has a set of built-in methods that you can use on strings.\n",
    "# Note: All string methods returns new values. They do not change the original string."
   ]
  },
  {
   "cell_type": "markdown",
   "id": "359345aa",
   "metadata": {},
   "source": [
    "## 1. capitalize()"
   ]
  },
  {
   "cell_type": "code",
   "execution_count": 4,
   "id": "c62ae786",
   "metadata": {},
   "outputs": [
    {
     "name": "stdout",
     "output_type": "stream",
     "text": [
      "I am dhanshri jangam\n"
     ]
    }
   ],
   "source": [
    "# Syntax:\n",
    "# string_name.capitalize()\n",
    "\n",
    "# Parameter:\n",
    "# The capitalize() function does not takes any parameter. \n",
    "\n",
    "# Return:\n",
    "# The capitalize() function returns a string with the first character in the capital.\n",
    "\n",
    "c = \"I am Dhanshri Jangam\"\n",
    "\n",
    "print(c.capitalize())\n",
    "# Output is>>\n",
    "# I am dhanshri jangam"
   ]
  },
  {
   "cell_type": "markdown",
   "id": "e24f9f51",
   "metadata": {},
   "source": [
    "## 2. title()"
   ]
  },
  {
   "cell_type": "code",
   "execution_count": 5,
   "id": "76bf31ff",
   "metadata": {},
   "outputs": [
    {
     "name": "stdout",
     "output_type": "stream",
     "text": [
      "Dhanshri Jangam\n",
      "Dhanshri Jangam\n",
      "Dhanshri Jangam\n"
     ]
    }
   ],
   "source": [
    "# Definition and Usage:\n",
    "# The title() method returns a string where the first character in every word is upper case. Like a header, or a title.\n",
    "# If the word contains a number or a symbol, the first letter after that will be converted to upper case.\n",
    "\n",
    "# Syntax:\n",
    "# string.title()\n",
    "\n",
    "# Parameter:\n",
    "# No parameters.\n",
    "\n",
    "c = \"Dhanshri jangam\"\n",
    "print(c.title())\n",
    "# Output is>>\n",
    "# Dhanshri Jangam\n",
    "\n",
    "c = \"Dhanshri Jangam\"\n",
    "print(c.title())\n",
    "# Output is>>\n",
    "# Dhanshri Jangam\n",
    "\n",
    "c = \"dhanshri jangam\"\n",
    "print(c.title())\n",
    "# Output is>>\n",
    "# Dhanshri Jangam"
   ]
  },
  {
   "cell_type": "markdown",
   "id": "1bbd3de8",
   "metadata": {},
   "source": [
    "## 3. casefold()"
   ]
  },
  {
   "cell_type": "code",
   "execution_count": 6,
   "id": "c49bf10d",
   "metadata": {},
   "outputs": [
    {
     "name": "stdout",
     "output_type": "stream",
     "text": [
      "dhanshri jangam\n"
     ]
    }
   ],
   "source": [
    "# Syntax:\n",
    "# string_name.casefold()\n",
    "\n",
    "# Parameter:\n",
    "# No parameters\n",
    "\n",
    "# Return:\n",
    "# The casefold() method returns a string where all the characters are lower case.    \n",
    "\n",
    "c = \"Dhanshri Jangam\"\n",
    "print(c.casefold())\n",
    "# Output is>>\n",
    "# dhanshri jangam"
   ]
  },
  {
   "cell_type": "markdown",
   "id": "6e97c812",
   "metadata": {},
   "source": [
    "## 4. swapcase()"
   ]
  },
  {
   "cell_type": "code",
   "execution_count": 7,
   "id": "6fb7b92a",
   "metadata": {},
   "outputs": [
    {
     "name": "stdout",
     "output_type": "stream",
     "text": [
      "dHANSHRI jANGAM\n"
     ]
    }
   ],
   "source": [
    "# Definition and Usage:\n",
    "# The swapcase() method returns a string where all the upper case letters are lower case and vice versa.\n",
    "\n",
    "# Syntax:\n",
    "# string.swapcase()\n",
    "\n",
    "# Parameter:\n",
    "# No parameters.\n",
    "\n",
    "c = \"Dhanshri Jangam\"\n",
    "print(c.swapcase())\n",
    "# Output is>>\n",
    "# dHANSHRI jANGAM"
   ]
  },
  {
   "cell_type": "markdown",
   "id": "0710f606",
   "metadata": {},
   "source": [
    "## 5. lower()"
   ]
  },
  {
   "cell_type": "code",
   "execution_count": 8,
   "id": "ba325e11",
   "metadata": {},
   "outputs": [
    {
     "name": "stdout",
     "output_type": "stream",
     "text": [
      "dhanshri jangam\n",
      "dhanshrijangam5@gmail.com\n"
     ]
    }
   ],
   "source": [
    "# Definition and Usage:\n",
    "# The lower() method returns a string where all characters are lower case.\n",
    "# Symbols and Numbers are ignored.\n",
    "\n",
    "# Syntax:\n",
    "# string.lower()\n",
    "\n",
    "# Parameter:\n",
    "# No parameters\n",
    "\n",
    "c = \"Dhanshri Jangam\"\n",
    "print(c.lower())\n",
    "# Output is>>\n",
    "# dhanshri jangam\n",
    "\n",
    "c = \"DhanshriJangam5@gmail.com\"\n",
    "print(c.lower())\n",
    "# Output is>>\n",
    "# dhanshrijangam5@gmail.com"
   ]
  },
  {
   "cell_type": "markdown",
   "id": "a43248e4",
   "metadata": {},
   "source": [
    "## 6. upper()"
   ]
  },
  {
   "cell_type": "code",
   "execution_count": 9,
   "id": "06d233f6",
   "metadata": {},
   "outputs": [
    {
     "name": "stdout",
     "output_type": "stream",
     "text": [
      "DHANSHRI JANGAM\n",
      "DHANSHRIJANGAM5@GMAIL.COM\n"
     ]
    }
   ],
   "source": [
    "# Definition and Usage:\n",
    "# The upper() method returns a string where all characters are in upper case.\n",
    "# Symbols and Numbers are ignored.\n",
    "\n",
    "# Syntax:\n",
    "# string.upper()\n",
    "\n",
    "# Parameter:\n",
    "# No parameters\n",
    "\n",
    "c = \"Dhanshri Jangam\"\n",
    "print(c.upper())\n",
    "# Output is>>\n",
    "# DHANSHRI JANGAM\n",
    "\n",
    "c = \"dhanshrijangam5@gmail.com\"\n",
    "print(c.upper())\n",
    "# Output is>>\n",
    "# DHANSHRIJANGAM5@GMAIL.COM"
   ]
  },
  {
   "cell_type": "markdown",
   "id": "bc73f8db",
   "metadata": {},
   "source": [
    "## 7. islower()"
   ]
  },
  {
   "cell_type": "code",
   "execution_count": 10,
   "id": "6fd46e37",
   "metadata": {},
   "outputs": [
    {
     "name": "stdout",
     "output_type": "stream",
     "text": [
      "True\n",
      "False\n",
      "True\n"
     ]
    }
   ],
   "source": [
    "# Definition and Usage:\n",
    "# The islower() method returns True if all the characters are in lower case, otherwise False.\n",
    "# Numbers, symbols and spaces are not checked, only alphabet characters.\n",
    "\n",
    "# Syntax:\n",
    "# string.islower()\n",
    "\n",
    "# Parameter:\n",
    "# No parameters.\n",
    "\n",
    "c = \"dhanshrijangam5@gmail.com\"\n",
    "print(c.islower())\n",
    "# Output is>>\n",
    "# True\n",
    "\n",
    "c = \"DhanshriJangam5@gmail.com\"\n",
    "print(c.islower())\n",
    "# Output is>>\n",
    "# False\n",
    "\n",
    "c = \"email :- dhanshrijangam5@gmail.com\"\n",
    "print(c.islower())\n",
    "# Output is>>\n",
    "# True"
   ]
  },
  {
   "cell_type": "markdown",
   "id": "d5cfcc0f",
   "metadata": {},
   "source": [
    "## 8. isupper()"
   ]
  },
  {
   "cell_type": "code",
   "execution_count": 11,
   "id": "6a9ccd9d",
   "metadata": {},
   "outputs": [
    {
     "name": "stdout",
     "output_type": "stream",
     "text": [
      "False\n",
      "False\n",
      "True\n",
      "True\n"
     ]
    }
   ],
   "source": [
    "# Definition and Usage:\n",
    "# The isupper() method returns True if all the characters are in upper case, otherwise False.\n",
    "# Numbers, symbols and spaces are not checked, only alphabet characters.\n",
    "\n",
    "# Syntax:\n",
    "# string.isupper()\n",
    "\n",
    "# Parameter:\n",
    "# No parameters.\n",
    "\n",
    "c = \"Dhanshri Jangam\"\n",
    "print(c.isupper())\n",
    "# Output is>>\n",
    "# False\n",
    "\n",
    "c = \"data science\"\n",
    "print(c.isupper())\n",
    "# Output is>>\n",
    "# False\n",
    "\n",
    "c = \"DATA\"\n",
    "print(c.isupper())\n",
    "# Output is>>\n",
    "# True\n",
    "\n",
    "c = \"DHANSHRI@GMAIL.COM\"\n",
    "print(c.isupper())\n",
    "# Output is>>\n",
    "# True"
   ]
  },
  {
   "cell_type": "markdown",
   "id": "5b97de2f",
   "metadata": {},
   "source": [
    "## 9. istitle()"
   ]
  },
  {
   "cell_type": "code",
   "execution_count": 12,
   "id": "07f43ba3",
   "metadata": {},
   "outputs": [
    {
     "name": "stdout",
     "output_type": "stream",
     "text": [
      "False\n",
      "False\n",
      "True\n",
      "True\n"
     ]
    }
   ],
   "source": [
    "# Definition and Usage:\n",
    "# The istitle() method returns True if all words in a text start with a upper case letter, AND the rest of the word are lower case letters, otherwise False.\n",
    "# Symbols and numbers are ignored.\n",
    "\n",
    "# Syntax:\n",
    "# string.istitle()\n",
    "\n",
    "# Parameter:\n",
    "# No parameters.\n",
    "\n",
    "c = \"I am Dhanshri\"\n",
    "print(c.istitle())\n",
    "# Output is>>\n",
    "# False\n",
    "\n",
    "c = \"I'm Dhanshri Jangam\"\n",
    "print(c.istitle())\n",
    "# Output is>>\n",
    "# False\n",
    "\n",
    "c = \"I Am Dhanshri Jangam\"\n",
    "print(c.istitle())\n",
    "# Output is>>\n",
    "# True\n",
    "\n",
    "c = \"Dhanshri Jangam\"\n",
    "print(c.istitle())\n",
    "# Output is>>\n",
    "# True"
   ]
  },
  {
   "cell_type": "markdown",
   "id": "6f066902",
   "metadata": {},
   "source": [
    "## 10. isalpha()"
   ]
  },
  {
   "cell_type": "code",
   "execution_count": 13,
   "id": "1b69d3f0",
   "metadata": {},
   "outputs": [
    {
     "name": "stdout",
     "output_type": "stream",
     "text": [
      "False\n",
      "False\n",
      "True\n"
     ]
    }
   ],
   "source": [
    "# Definition and Usage:\n",
    "# The isalpha() method returns True if all the characters are alphabet letters (a-z).\n",
    "# Example of characters that are not alphabet letters: (space)!#%&? etc.\n",
    "\n",
    "# Syntax:\n",
    "# string.isalpha()\n",
    "\n",
    "# Parameter:\n",
    "# No parameters.\n",
    "\n",
    "c = \"dhanshrijangam5\"\n",
    "print(c.isalpha())\n",
    "# Output is>>\n",
    "# False\n",
    "\n",
    "c = \"dhanshrijangam5@gmail.com\"\n",
    "print(c.isalpha())\n",
    "# Output is>>\n",
    "# False\n",
    "\n",
    "c = \"DhanshriJangam\"\n",
    "print(c.isalpha())\n",
    "# Output is>>\n",
    "# True"
   ]
  },
  {
   "cell_type": "markdown",
   "id": "61806ff5",
   "metadata": {},
   "source": [
    "## 11. center()"
   ]
  },
  {
   "cell_type": "code",
   "execution_count": 14,
   "id": "dc304dbd",
   "metadata": {},
   "outputs": [
    {
     "name": "stdout",
     "output_type": "stream",
     "text": [
      "                 Dhanshri Jangam                  \n",
      "******************************Dhanshri Jangam******************************\n",
      "Dhanshri Jangam\n"
     ]
    }
   ],
   "source": [
    "# Definition and Usage:\n",
    "# The center() method will center align the string, using a specified character (space is default) as the fill character.\n",
    "\n",
    "# Syntax:\n",
    "# string.center(length, character)\n",
    "\n",
    "# Parameter:\n",
    "# length is Required. The length of the returned string\n",
    "# character is Optional. The character to fill the missing space on each side. Default is \" \" (space)\n",
    "\n",
    "c = \"Dhanshri Jangam\"\n",
    "print(c.center(50))\n",
    "# Output is>>\n",
    "#                  Dhanshri Jangam                  \n",
    "\n",
    "print(c.center(75, \"*\"))\n",
    "# Output is>>\n",
    "# ******************************Dhanshri Jangam******************************Dhanshri Jangam\n",
    "\n",
    "print(c.center(10, \"*\"))\n",
    "# Output is>>\n",
    "# Dhanshri Jangam"
   ]
  },
  {
   "cell_type": "markdown",
   "id": "01da340b",
   "metadata": {},
   "source": [
    "## 12. ljust()"
   ]
  },
  {
   "cell_type": "code",
   "execution_count": 15,
   "id": "70428d1d",
   "metadata": {},
   "outputs": [
    {
     "name": "stdout",
     "output_type": "stream",
     "text": [
      "Dhanshri       \n",
      "Dhanshri\n",
      "Dhanshri*******\n"
     ]
    }
   ],
   "source": [
    "# Definition and Usage:\n",
    "# The ljust() method will left align the string, using a specified character (space is default) as the fill character.\n",
    "\n",
    "# Syntax:\n",
    "# string.ljust(length, character)\n",
    "\n",
    "# Parameter:\n",
    "# length is Required. The length of the returned string\n",
    "# character is Optional. A character to fill the missing space (to the right of the string). Default is \" \" (space).\n",
    "\n",
    "c = \"Dhanshri\"\n",
    "print(c.ljust(15))\n",
    "# Output is>>\n",
    "# Dhanshri       \n",
    "#In the output after Dhanshri there are 7 whitespaces are given.(15-8=7)\n",
    "\n",
    "c = \"Dhanshri\"\n",
    "print(c.ljust(4))\n",
    "# Output is>>\n",
    "# Dhanshri\n",
    "\n",
    "c = \"Dhanshri\"\n",
    "print(c.ljust(15,\"*\"))\n",
    "# Output is>>\n",
    "# Dhanshri*******"
   ]
  },
  {
   "cell_type": "markdown",
   "id": "338ce09c",
   "metadata": {},
   "source": [
    "## 13. rjust()"
   ]
  },
  {
   "cell_type": "code",
   "execution_count": 16,
   "id": "ca5d0f75",
   "metadata": {},
   "outputs": [
    {
     "name": "stdout",
     "output_type": "stream",
     "text": [
      "       Dhanshri\n",
      "*******Dhanshri\n"
     ]
    }
   ],
   "source": [
    "# Definition and Usage:\n",
    "# The rjust() method will right align the string, using a specified character (space is default) as the fill character.\n",
    "\n",
    "# Syntax:\n",
    "# string.rjust(length, character)\n",
    "\n",
    "# Parameter:\n",
    "# length is Required. The length of the returned string\n",
    "# character is Optional. A character to fill the missing space (to the left of the string). Default is \" \" (space).\n",
    "\n",
    "#In the result, there are actually 7 whitespaces to the left of the word Dhanshri.\n",
    "\n",
    "c = \"Dhanshri\"\n",
    "print(c.rjust(15))\n",
    "# Output is>>\n",
    "#        Dhanshri\n",
    "\n",
    "c = \"Dhanshri\"\n",
    "print(c.rjust(15,\"*\"))\n",
    "# Output is>>\n",
    "# *******Dhanshri"
   ]
  },
  {
   "cell_type": "markdown",
   "id": "f055f4cc",
   "metadata": {},
   "source": [
    "## 14. count()"
   ]
  },
  {
   "cell_type": "code",
   "execution_count": 2,
   "id": "11e028d7",
   "metadata": {},
   "outputs": [
    {
     "name": "stdout",
     "output_type": "stream",
     "text": [
      "2\n",
      "0\n",
      "1\n",
      "2\n",
      "1\n"
     ]
    }
   ],
   "source": [
    "# Definition and Usage:\n",
    "# The count() method returns the number of times a specified value appears in the string.\n",
    "\n",
    "# Syntax:\n",
    "# string.count(value, start, end)\n",
    "\n",
    "# Parameter Values:\n",
    "# value is Required. A String. The string to value to search for\n",
    "# start is Optional. An Integer. The position to start the search. Default is 0\n",
    "# end is Optional. An Integer. The position to end the search. Default is the end of the string\n",
    "\n",
    "c = \"D for Dhanshri \"\n",
    "print(c.count('D'))\n",
    "# Output is>>\n",
    "# 2\n",
    "\n",
    "c = \"D for Dhanshri \"\n",
    "print(c.count('Z'))\n",
    "# Output is>>\n",
    "# 0\n",
    "\n",
    "\n",
    "print(c.count('sh'))\n",
    "# Output is>>\n",
    "# 1\n",
    "\n",
    "print(c.count('D',0))\n",
    "# Output is>>\n",
    "# 2\n",
    "\n",
    "print(c.count('D',0,5))\n",
    "# Output is>>\n",
    "# 1"
   ]
  },
  {
   "cell_type": "markdown",
   "id": "de46d221",
   "metadata": {},
   "source": [
    "## 15. find()"
   ]
  },
  {
   "cell_type": "code",
   "execution_count": 18,
   "id": "90100dd5",
   "metadata": {},
   "outputs": [
    {
     "name": "stdout",
     "output_type": "stream",
     "text": [
      "0\n",
      "6\n",
      "6\n",
      "-1\n"
     ]
    }
   ],
   "source": [
    "# Definition and Usage:\n",
    "# The find() method finds the first occurrence of the specified value.\n",
    "# The find() method returns -1 if the value is not found.\n",
    "# The find() method is almost the same as the index() method, the only difference is that the index() method raises an exception if the value is not found. (See example below)\n",
    "\n",
    "# Syntax:\n",
    "# string.find(value, start, end)\n",
    "\n",
    "# Parameter:\n",
    "# value is Required. The value to search for\n",
    "# start is Optional. Where to start the search. Default is 0\n",
    "# end is Optional. Where to end the search. Default is to the end of the string\n",
    "\n",
    "c = 'D for Dhanshri, D for Data'\n",
    "print(c.find('D'))\n",
    "# Output is>>\n",
    "# 0\n",
    "\n",
    "print(c.find('Dh',3))\n",
    "# Output is>>\n",
    "# 6\n",
    "\n",
    "print(c.find('D',6,17))\n",
    "# Output is>>\n",
    "# 6\n",
    "\n",
    "print(c.find('D',7,10))\n",
    "# Output is>>\n",
    "# -1"
   ]
  },
  {
   "cell_type": "markdown",
   "id": "e191eae8",
   "metadata": {},
   "source": [
    "## 16. rfind()"
   ]
  },
  {
   "cell_type": "code",
   "execution_count": 19,
   "id": "a11ee0da",
   "metadata": {},
   "outputs": [
    {
     "name": "stdout",
     "output_type": "stream",
     "text": [
      "13\n",
      "15\n",
      "6\n",
      "15\n",
      "-1\n"
     ]
    }
   ],
   "source": [
    "# Definition and Usage:\n",
    "# The rfind() method finds the last occurrence of the specified value.\n",
    "# The rfind() method returns -1 if the value is not found.\n",
    "# The rfind() method is almost the same as the rindex() method. See example below.\n",
    "\n",
    "# Syntax:\n",
    "# string.rfind(value, start, end)\n",
    "\n",
    "# Parameter:\n",
    "# valu is Required. The value to search for\n",
    "# start is Optional. Where to start the search. Default is 0\n",
    "# end is Optional. Where to end the search. Default is to the end of the string\n",
    "\n",
    "c = \"Dhanshri Jangam\"\n",
    "print(c.rfind(\"am\"))\n",
    "# Output is>>\n",
    "# 13\n",
    "\n",
    "c = \"Dhanshri Dhanshri\"\n",
    "print(c.rfind(\"ri\"))\n",
    "# Output is>>\n",
    "# 15\n",
    "\n",
    "c = \"Dhanshri Dhanshri\"\n",
    "print(c.rfind(\"ri\",0,9))\n",
    "# Output is>>\n",
    "# 6\n",
    "\n",
    "c = \"Dhanshri Dhanshri\"\n",
    "print(c.rfind(\"ri\",9))\n",
    "# Output is>>\n",
    "# 15\n",
    "\n",
    "c = \"Dhanshri Dhanshri\"\n",
    "print(c.rfind(\"am\"))\n",
    "# Output is>>\n",
    "# -1"
   ]
  },
  {
   "cell_type": "markdown",
   "id": "4b2ff823",
   "metadata": {},
   "source": [
    "## 17. index()"
   ]
  },
  {
   "cell_type": "code",
   "execution_count": 20,
   "id": "d9652998",
   "metadata": {},
   "outputs": [
    {
     "name": "stdout",
     "output_type": "stream",
     "text": [
      "0\n",
      "6\n",
      "12\n"
     ]
    }
   ],
   "source": [
    "# Definition and Usage:\n",
    "# The index() method finds the first occurrence of the specified value.\n",
    "# The index() method raises an exception if the value is not found.\n",
    "# The index() method is almost the same as the find() method, the only difference is that the find() method returns -1 if the value is not found. (See example below)\n",
    "\n",
    "# Syntax:\n",
    "# string.index(value, start, end)\n",
    "\n",
    "# Parameter:\n",
    "# value is Required. The value to search for\n",
    "# start is Optional. Where to start the search. Default is 0\n",
    "# end is Optional. Where to end the search. Default is to the end of the string\n",
    "\n",
    "c = \"D for Dhanshri Jangam, D for Data\"\n",
    "print(c.index(\"D\"))\n",
    "# Output is>>\n",
    "# 0\n",
    "\n",
    "print(c.index(\"D\",3))\n",
    "# Output is>>\n",
    "# 6\n",
    "\n",
    "print(c.index(\"ri\",3))\n",
    "# Output is>>\n",
    "# 12\n",
    "\n",
    "# print(c.index(\"H\",4,8))\n",
    "# Output is>>\n",
    "# ValueError: substring not found"
   ]
  },
  {
   "cell_type": "markdown",
   "id": "0256d427",
   "metadata": {},
   "source": [
    "## 18. rindex()"
   ]
  },
  {
   "cell_type": "code",
   "execution_count": 21,
   "id": "47c70569",
   "metadata": {},
   "outputs": [
    {
     "name": "stdout",
     "output_type": "stream",
     "text": [
      "15\n",
      "6\n",
      "15\n"
     ]
    }
   ],
   "source": [
    "# Definition and Usage:\n",
    "# The rindex() method finds the last occurrence of the specified value.\n",
    "# The rindex() method raises an exception if the value is not found.\n",
    "# The rindex() method is almost the same as the rfind() method. See example below.\n",
    "\n",
    "# Syntax:\n",
    "# string.rindex(value, start, end)\n",
    "\n",
    "# Parameter:\n",
    "# value is Required. The value to search for\n",
    "# start is Optional. Where to start the search. Default is 0\n",
    "# end is Optional. Where to end the search. Default is to the end of the string\n",
    "\n",
    "c = \"Dhanshri Dhanshri\"\n",
    "print(c.rindex(\"ri\"))\n",
    "# Output is>>\n",
    "# 15\n",
    "\n",
    "# c = \"Dhanshri Dhanshri\"\n",
    "# print(c.rindex(\"am\"))\n",
    "# Output is>>\n",
    "# ValueError: substring not found\n",
    "\n",
    "c = \"Dhanshri Dhanshri\"\n",
    "print(c.rindex(\"ri\",0,8))\n",
    "# Output is>>\n",
    "# 6\n",
    "\n",
    "c = \"Dhanshri Dhanshri\"\n",
    "print(c.rindex(\"ri\",0))\n",
    "# Output is>>\n",
    "# 15"
   ]
  },
  {
   "cell_type": "markdown",
   "id": "58469ca6",
   "metadata": {},
   "source": [
    "## 19. startswith()"
   ]
  },
  {
   "cell_type": "code",
   "execution_count": 22,
   "id": "7e1ba084",
   "metadata": {},
   "outputs": [
    {
     "name": "stdout",
     "output_type": "stream",
     "text": [
      "True\n",
      "False\n",
      "False\n",
      "False\n",
      "False\n"
     ]
    }
   ],
   "source": [
    "# Definition and Usage:\n",
    "# The startswith() method returns True if the string starts with the specified value, otherwise False.\n",
    "\n",
    "# Syntax:\n",
    "# string.startswith(value, start, end)\n",
    "\n",
    "# Parameter:\n",
    "# value is Required. The value to check if the string starts with\n",
    "# start is Optional. An Integer specifying at which position to start the search\n",
    "# end is Optional. An Integer specifying at which position to end the search\n",
    "\n",
    "c = \"Dhanshri Jangam\"\n",
    "print(c.startswith(\"D\"))\n",
    "# Output is>>\n",
    "# True\n",
    "\n",
    "c = \"Dhanshri Jangam\"\n",
    "print(c.startswith(\"d\"))\n",
    "# Output is>>\n",
    "# False\n",
    "\n",
    "c = \"Dhanshri Jangam\"\n",
    "print(c.startswith(\"D\",1))\n",
    "# Output is>>\n",
    "# False\n",
    "\n",
    "c = \"Dhanshri Jangam\"\n",
    "print(c.startswith(\"J\",0,5))\n",
    "# Output is>>\n",
    "# False\n",
    "\n",
    "c = \"Dhanshri Jangam\"\n",
    "print(c.startswith(\"W\"))\n",
    "# Output is>>\n",
    "# False"
   ]
  },
  {
   "cell_type": "markdown",
   "id": "262340a6",
   "metadata": {},
   "source": [
    "## 20. endswith()"
   ]
  },
  {
   "cell_type": "code",
   "execution_count": 23,
   "id": "e3d3d7f5",
   "metadata": {},
   "outputs": [
    {
     "name": "stdout",
     "output_type": "stream",
     "text": [
      "True\n",
      "True\n",
      "False\n",
      "True\n",
      "True\n"
     ]
    }
   ],
   "source": [
    "# Definition and Usage:\n",
    "# The endswith() method returns True if the string ends with the specified value, otherwise False.\n",
    "\n",
    "# Syntax:\n",
    "# string.endswith(value, start, end)\n",
    "\n",
    "# Parameter:\n",
    "# value is Required. The value to check if the string ends with\n",
    "# start is Optional. An Integer specifying at which position to start the search\n",
    "# end is Optional. An Integer specifying at which position to end the search\n",
    "\n",
    "c = 'Data Science'\n",
    "print(c.endswith(\"ce\"))\n",
    "# Output is>>\n",
    "# True\n",
    "\n",
    "print(c.endswith(\"e\"))\n",
    "# Output is>>\n",
    "# True\n",
    "\n",
    "print(c.endswith(\"n\",0))\n",
    "# Output is>>\n",
    "# False\n",
    "\n",
    "print(c.endswith(\"n\",0,10))\n",
    "# Output is>>\n",
    "# True\n",
    "\n",
    "print(c.endswith(\"n\",9,10))\n",
    "# Output is>>\n",
    "# True"
   ]
  },
  {
   "cell_type": "markdown",
   "id": "3a15e7a9",
   "metadata": {},
   "source": [
    "## 21. partition()"
   ]
  },
  {
   "cell_type": "code",
   "execution_count": 24,
   "id": "ce3c37c6",
   "metadata": {},
   "outputs": [
    {
     "name": "stdout",
     "output_type": "stream",
     "text": [
      "('My name ', 'is', ' Dhanshri Jangam')\n",
      "('My name is Dhanshri Jangam', '', '')\n"
     ]
    }
   ],
   "source": [
    "# Definition and Usage:\n",
    "# The partition() method searches for a specified string, and splits the string into a tuple containing three elements.\n",
    "# The first element contains the part before the specified string.\n",
    "# The second element contains the specified string.\n",
    "# The third element contains the part after the string.\n",
    "# Note: This method searches for the first occurrence of the specified string.\n",
    "\n",
    "# Syntax:\n",
    "# string.partition(value)\n",
    "\n",
    "# Parameter:\n",
    "# value is Required. The string to search for\n",
    "\n",
    "c = \"My name is Dhanshri Jangam\"\n",
    "print(c.partition('is'))\n",
    "# Output is>>\n",
    "# ('My name ', 'is', ' Dhanshri Jangam')\n",
    "\n",
    "#If the specified value is not found, the partition() method returns a tuple containing:\n",
    "# 1 - the whole string\n",
    "# 2 - an empty string\n",
    "# 3 - an empty string\n",
    "c = \"My name is Dhanshri Jangam\"\n",
    "print(c.partition('and'))\n",
    "# Output is>>\n",
    "# ('My name is Dhanshri Jangam', '', '')"
   ]
  },
  {
   "cell_type": "markdown",
   "id": "b1d13e07",
   "metadata": {},
   "source": [
    "## 22. rpartition()"
   ]
  },
  {
   "cell_type": "code",
   "execution_count": 25,
   "id": "114b6685",
   "metadata": {},
   "outputs": [
    {
     "name": "stdout",
     "output_type": "stream",
     "text": [
      "('I am ', 'Dhanshri', ' working as a Data Scientist')\n",
      "('', '', 'I am Dhanshri working as a Data Scientist')\n"
     ]
    }
   ],
   "source": [
    "# Definition and Usage:\n",
    "# The rpartition() method searches for the last occurrence of a specified string, and splits the string into a tuple containing three elements.\n",
    "# The first element contains the part before the specified string.\n",
    "# The second element contains the specified string.\n",
    "# The third element contains the part after the string.\n",
    "\n",
    "# Syntax:\n",
    "# string.rpartition(value)\n",
    "\n",
    "# Parameter:\n",
    "# value is Required. The string to search for.\n",
    "\n",
    "c = \"I am Dhanshri working as a Data Scientist\"\n",
    "print(c.rpartition(\"Dhanshri\"))\n",
    "# Output is>>\n",
    "# ('I am ', 'Dhanshri', ' working as a Data Scientist')\n",
    "\n",
    "c = \"I am Dhanshri working as a Data Scientist\"\n",
    "print(c.rpartition(\"pm\"))\n",
    "# Output is>>\n",
    "# ('', '', 'I am Dhanshri working as a Data Scientist')"
   ]
  },
  {
   "cell_type": "markdown",
   "id": "8cc4fa77",
   "metadata": {},
   "source": [
    "## 23. split()"
   ]
  },
  {
   "cell_type": "code",
   "execution_count": 26,
   "id": "a5f38d1c",
   "metadata": {},
   "outputs": [
    {
     "name": "stdout",
     "output_type": "stream",
     "text": [
      "[\"I'm\", 'Dhanshri', 'Jangam']\n",
      "[\"I'm\", 'Dhanshri', 'Jangam']\n",
      "[\"I'm\", 'Dhanshri Jangam']\n",
      "[\"I'm Dhanshri Jangam\"]\n"
     ]
    }
   ],
   "source": [
    "# Definition and Usage:\n",
    "# The split() method splits a string into a list.\n",
    "# You can specify the separator, default separator is any whitespace.\n",
    "# Note: When maxsplit is specified, the list will contain the specified number of elements plus one.\n",
    "\n",
    "# Syntax:\n",
    "# string.split(separator, maxsplit)\n",
    "\n",
    "# Parameter:\n",
    "# separator is Optional. Specifies the separator to use when splitting the string. By default any whitespace is a separator\n",
    "# maxsplit is Optional. Specifies how many splits to do. Default value is -1, which is \"all occurrences\"\n",
    "\n",
    "c = \"I'm Dhanshri Jangam\"\n",
    "print(c.split())\n",
    "# Output is>>\n",
    "# [\"I'm\", 'Dhanshri', 'Jangam']\n",
    "\n",
    "c = \"I'm Dhanshri Jangam\"\n",
    "print(c.split(\" \"))\n",
    "# Output is>>\n",
    "# [\"I'm\", 'Dhanshri', 'Jangam']\n",
    "\n",
    "c = \"I'm Dhanshri Jangam\"\n",
    "print(c.split(\" \", 1))\n",
    "# Output is>>\n",
    "# [\"I'm\", 'Dhanshri Jangam']\n",
    "\n",
    "c = \"I'm Dhanshri Jangam\"\n",
    "print(c.split(\"#\"))\n",
    "# Output is>>\n",
    "# [\"I'm Dhanshri Jangam\"]"
   ]
  },
  {
   "cell_type": "markdown",
   "id": "496c15b4",
   "metadata": {},
   "source": [
    "## 24. rsplit()"
   ]
  },
  {
   "cell_type": "code",
   "execution_count": 27,
   "id": "2b9d9916",
   "metadata": {},
   "outputs": [
    {
     "name": "stdout",
     "output_type": "stream",
     "text": [
      "[\"I'm\", 'Dhanshri', 'Jangam.']\n",
      "['I', 'm Dhanshri Jangam.']\n",
      "[\"I'm Dhanshri\", 'Jangam.']\n"
     ]
    }
   ],
   "source": [
    "# Definition and Usage:\n",
    "# The rsplit() method splits a string into a list, starting from the right.\n",
    "# If no \"max\" is specified, this method will return the same as the split() method.\n",
    "# Note: When maxsplit is specified, the list will contain the specified number of elements plus one.\n",
    "\n",
    "# Syntax:\n",
    "# string.rsplit(separator, maxsplit)\n",
    "\n",
    "# Parameter:\n",
    "# separator is Optional. Specifies the separator to use when splitting the string. By default any whitespace is a separator\n",
    "# maxsplit is Optional. Specifies how many splits to do. -Default value is -1, which is \"all occurrences\"\n",
    "\n",
    "c = \"I'm Dhanshri Jangam.\"\n",
    "print(c.rsplit())\n",
    "# Output is>>\n",
    "# [\"I'm\", 'Dhanshri', 'Jangam.']\n",
    "\n",
    "\n",
    "c = \"I'm Dhanshri Jangam.\"\n",
    "print(c.rsplit(\"'\"))\n",
    "# Output is>>\n",
    "# ['I', 'm Dhanshri Jangam.']\n",
    "\n",
    "\n",
    "c = \"I'm Dhanshri Jangam.\"\n",
    "print(c.rsplit(\" \",1))\n",
    "# Output is>>\n",
    "# [\"I'm Dhanshri\", 'Jangam.']"
   ]
  },
  {
   "cell_type": "markdown",
   "id": "4cdf1a8d",
   "metadata": {},
   "source": [
    "## 25. splitlines()"
   ]
  },
  {
   "cell_type": "code",
   "execution_count": 28,
   "id": "7beb8d88",
   "metadata": {},
   "outputs": [
    {
     "name": "stdout",
     "output_type": "stream",
     "text": [
      "[\"I'm Dhanshri Jangam \", ' working as Data Scientist.']\n",
      "[\"I'm Dhanshri Jangam, \\n\", ' working as Data Scientist.']\n"
     ]
    }
   ],
   "source": [
    "# Definition and Usage:\n",
    "# The splitlines() method splits a string into a list. The splitting is done at line breaks.\n",
    "\n",
    "# Syntax:\n",
    "# string.splitlines(keeplinebreaks)\n",
    "\n",
    "# Parameter:\n",
    "# keeplinebreaks is Optional. Specifies if the line breaks should be included (True), or not (False). Default value is False\n",
    "\n",
    "c = \"I'm Dhanshri Jangam \\n working as Data Scientist.\"\n",
    "print(c.splitlines())\n",
    "# Output is>>\n",
    "# [\"I'm Dhanshri Jangam \", ' working as Data Scientist.']\n",
    "\n",
    "c = \"I'm Dhanshri Jangam, \\n working as Data Scientist.\"\n",
    "print(c.splitlines(True))\n",
    "# Output is>>\n",
    "# [\"I'm Dhanshri Jangam, \\n\", ' working as Data Scientist.']"
   ]
  },
  {
   "cell_type": "markdown",
   "id": "cbba1e60",
   "metadata": {},
   "source": [
    "## 26. strip()"
   ]
  },
  {
   "cell_type": "code",
   "execution_count": 29,
   "id": "f53132b7",
   "metadata": {},
   "outputs": [
    {
     "name": "stdout",
     "output_type": "stream",
     "text": [
      "Dhanshri Satish Jangam\n",
      "      ****Dhanshri Satish Jangam*****         \n",
      "Dhanshri Satish Jangam\n"
     ]
    }
   ],
   "source": [
    "# Definition and Usage:\n",
    "# The strip() method removes any leading, and trailing whitespaces.\n",
    "# Leading means at the beginning of the string, trailing means at the end.\n",
    "# You can specify which character(s) to remove, if not, any whitespaces will be removed.\n",
    "\n",
    "# Syntax:\n",
    "# string.strip(characters)\n",
    "\n",
    "# Parameter:\n",
    "# characters is Optional. A set of characters to remove as leading/trailing characters\n",
    "\n",
    "c = \"      Dhanshri Satish Jangam         \"\n",
    "print(c.strip())\n",
    "# Output is>>\n",
    "# Dhanshri Satish Jangam\n",
    "\n",
    "c = \"      ****Dhanshri Satish Jangam*****         \"\n",
    "print(c.strip(\"*\"))\n",
    "# Output is>>\n",
    "#       ****Dhanshri Satish Jangam*****         \n",
    "\n",
    "c = \"      ****Dhanshri Satish Jangam*****         \"\n",
    "print(c.strip(\" *\"))\n",
    "# Output is>>\n",
    "# Dhanshri Satish Jangam"
   ]
  },
  {
   "cell_type": "markdown",
   "id": "5d02be02",
   "metadata": {},
   "source": [
    "## 27. lstrip()"
   ]
  },
  {
   "cell_type": "code",
   "execution_count": 30,
   "id": "6b26cac4",
   "metadata": {},
   "outputs": [
    {
     "name": "stdout",
     "output_type": "stream",
     "text": [
      "Dhanshri Jangam 05 11 1999\n",
      "Dhanshri Jangam    \n",
      "skills\n"
     ]
    }
   ],
   "source": [
    "# Definition and Usage:\n",
    "# The lstrip() method removes any leading characters (space is the default leading character to remove)\n",
    "\n",
    "# Syntax:\n",
    "# string.lstrip(characters)\n",
    "\n",
    "# Parameter:\n",
    "# characters is Optional. A set of characters to remove as leading characters\n",
    "\n",
    "c = \"Dhanshri Jangam 05 11 1999\"\n",
    "print(c.lstrip())\n",
    "# Output is>>\n",
    "# Dhanshri Jangam 05 11 1999\n",
    "\n",
    "c = \"    Dhanshri Jangam    \"\n",
    "print(c.lstrip('@ '))\n",
    "# Output is>>\n",
    "# Dhanshri Jangam    \n",
    "\n",
    "c = \"****,any,****skills\"\n",
    "print(c.lstrip('*any,'))\n",
    "# Output is>>\n",
    "# skills"
   ]
  },
  {
   "cell_type": "markdown",
   "id": "e020271d",
   "metadata": {},
   "source": [
    "## 28. rstrip()"
   ]
  },
  {
   "cell_type": "code",
   "execution_count": 31,
   "id": "a1f1db60",
   "metadata": {},
   "outputs": [
    {
     "name": "stdout",
     "output_type": "stream",
     "text": [
      "Hey I'm Dhanshri Jangam.\n",
      "Hey I'm Dhanshri Jangam.\n"
     ]
    }
   ],
   "source": [
    "# Definition and Usage:\n",
    "# The rstrip() method removes any trailing characters (characters at the end a string), space is the default trailing character to remove.\n",
    "\n",
    "# Syntax:\n",
    "# string.rstrip(characters)\n",
    "\n",
    "# Parameter:\n",
    "# characters is Optional. A set of characters to remove as trailing characters\n",
    "\n",
    "c = \"Hey I'm Dhanshri Jangam.    \"\n",
    "print(c.rstrip(\" \"))\n",
    "# Output is>>\n",
    "# Hey I'm Dhanshri Jangam.\n",
    "\n",
    "c = \"Hey I'm Dhanshri Jangam.    ****\"\n",
    "print(c.rstrip(\" *\"))\n",
    "# Output is>>\n",
    "# Hey I'm Dhanshri Jangam."
   ]
  },
  {
   "cell_type": "markdown",
   "id": "9c288b6c",
   "metadata": {},
   "source": [
    "## 29. removeprefix()"
   ]
  },
  {
   "cell_type": "code",
   "execution_count": 32,
   "id": "5fd81247",
   "metadata": {},
   "outputs": [
    {
     "name": "stdout",
     "output_type": "stream",
     "text": [
      "Dhanshri Jangam\n",
      "Miss. Dhanshri Jangam\n"
     ]
    }
   ],
   "source": [
    "# Definition and Usage:\n",
    "# Python String removeprefix() function removes the prefix and returns the rest of the string.\n",
    "# If the prefix string is not found, then it returns the original string. It is introduced in Python 3.9.0 version.\n",
    "\n",
    "# Syntax:\n",
    "# str_obj_name.removeprefix(prefix)\n",
    "\n",
    "# Parameters:\n",
    "# prefix– required : prefix string that we are checking for.\n",
    "\n",
    "# Return:\n",
    "# Returns the copy of the string with the prefix removed(if present), else the original string.\n",
    "\n",
    "c = \"Miss. Dhanshri Jangam\"\n",
    "print(c.removeprefix(\"Miss. \"))\n",
    "# Output is>>\n",
    "# Dhanshri Jangam\n",
    "\n",
    "c = \"Miss. Dhanshri Jangam\"\n",
    "print(c.removeprefix('for'))\n",
    "# Output is>>\n",
    "# Miss. Dhanshri Jangam"
   ]
  },
  {
   "cell_type": "markdown",
   "id": "adb874d9",
   "metadata": {},
   "source": [
    "## 30. removesuffix()"
   ]
  },
  {
   "cell_type": "code",
   "execution_count": 33,
   "id": "5bbd5a9b",
   "metadata": {},
   "outputs": [
    {
     "name": "stdout",
     "output_type": "stream",
     "text": [
      "I'm Dhanshri Jangam\n",
      "I'm Dhanshri Jangam, M.Eng.\n"
     ]
    }
   ],
   "source": [
    "# Definition and Usage:\n",
    "# If the string ends with the suffix and the suffix is not empty, function removes the suffix and returns the rest of the string.\n",
    "# If the suffix string is not found then it returns the original string.\n",
    "# It is introduced in Python 3.9.0 version.\n",
    "\n",
    "# Syntax:\n",
    "# str.removesuffix(suffix)\n",
    "\n",
    "# Parameters:\n",
    "# Suffix– suffix string that we are checking for.\n",
    "\n",
    "# Returns:\n",
    "# string[ : – len (suffix) ] \n",
    "#     if the string ends with suffix string and that suffix is not empty.\n",
    "#     else it returns the copy of original string\n",
    "\n",
    "c = \"I'm Dhanshri Jangam, M.Eng.\"\n",
    "print(c.removesuffix(\", M.Eng.\"))\n",
    "# Output is>>\n",
    "# I'm Dhanshri Jangam\n",
    "\n",
    "c = \"I'm Dhanshri Jangam, M.Eng.\"\n",
    "print(c.removesuffix(\",M.Eng.\"))\n",
    "# Output is>>\n",
    "# I'm Dhanshri Jangam, M.Eng."
   ]
  },
  {
   "cell_type": "markdown",
   "id": "e34aaaf3",
   "metadata": {},
   "source": [
    "## 31. replace()"
   ]
  },
  {
   "cell_type": "code",
   "execution_count": 34,
   "id": "1bb49a38",
   "metadata": {},
   "outputs": [
    {
     "name": "stdout",
     "output_type": "stream",
     "text": [
      "Data Lover\n",
      "D*t* Zappy\n",
      "*eve*\n",
      "LeeveLe\n",
      "*l*e*v*e*l*\n",
      "level\n"
     ]
    }
   ],
   "source": [
    "# Definition and Usage:\n",
    "# The replace() method replaces a specified phrase with another specified phrase.\n",
    "# Note: All occurrences of the specified phrase will be replaced, if nothing else is specified.\n",
    "\n",
    "# Syntax:\n",
    "# string.replace(oldvalue, newvalue, count)\n",
    "\n",
    "# Parameter:\n",
    "# oldvalue is Required. The string to search for\n",
    "# newvalue is Required. The string to replace the old value with\n",
    "# count is Optional. A number specifying how many occurrences of the old value you want to replace. Default is all occurrences\n",
    "\n",
    "c = \"Data Zappy\"\n",
    "print(c.replace(\"Zappy\",\"Lover\"))\n",
    "# Output is>>\n",
    "# Data Lover\n",
    "\n",
    "c = \"Data Zappy\"\n",
    "print(c.replace(\"a\",\"*\",2))\n",
    "# Output is>>\n",
    "# D*t* Zappy\n",
    "\n",
    "c = \"level\"\n",
    "print(c.replace(\"l\",\"*\"))\n",
    "# Output is>>\n",
    "# *eve*\n",
    "\n",
    "c = \"level\"\n",
    "print(c.replace(\"l\",\"Le\",2))\n",
    "# Output is>>\n",
    "# LeeveLe\n",
    "\n",
    "c = \"level\"\n",
    "print(c.replace(\"\",\"*\"))\n",
    "# Output is>>\n",
    "# *l*e*v*e*l*\n",
    "\n",
    "c = \"level\"\n",
    "print(c.replace(\" \",\"*\"))\n",
    "# Output is>>\n",
    "# level"
   ]
  },
  {
   "cell_type": "markdown",
   "id": "8720e0a8",
   "metadata": {},
   "source": [
    "## 32. translate()"
   ]
  },
  {
   "cell_type": "code",
   "execution_count": 35,
   "id": "8ad6df0e",
   "metadata": {},
   "outputs": [
    {
     "name": "stdout",
     "output_type": "stream",
     "text": [
      "I am Data Zappy!\n",
      " Data Zappy!\n",
      "{76: 90, 111: 97, 118: 112, 101: 112, 114: 121, 73: None, 39: None, 109: None}\n",
      " Data Zappy!\n"
     ]
    }
   ],
   "source": [
    "# Definition and Usage:\n",
    "# The translate() method returns a string where some specified characters are replaced with the character described in a dictionary, or in a mapping table.\n",
    "# Use the maketrans() method to create a mapping table.\n",
    "# If a character is not specified in the dictionary/table, the character will not be replaced.\n",
    "# If you use a dictionary, you must use ascii codes instead of characters.\n",
    "\n",
    "# Syntax:\n",
    "# string.translate(table)\n",
    "\n",
    "# Parameter:\n",
    "# table is Required. Either a dictionary, or a mapping table describing how to perform the replace\n",
    "\n",
    "\n",
    "c = \"I am Data Lover!\"\n",
    "x = \"Lover\"\n",
    "y = \"Zappy\"\n",
    "mytable = str.maketrans(x, y)\n",
    "print(c.translate(mytable))\n",
    "# Output is>>\n",
    "# I am Data Zappy!\n",
    " \n",
    "\n",
    "c = \"I'm Data Lover!\"\n",
    "x = \"Lover\"\n",
    "y = \"Zappy\"\n",
    "z = \"I'm\"\n",
    "mytable = str.maketrans(x, y, z)\n",
    "print(c.translate(mytable))\n",
    "# Output is>>\n",
    "#  Data Zappy!\n",
    "\n",
    "\n",
    "c = \"I'm Data Lover!\"\n",
    "x = \"Lover\"\n",
    "y = \"Zappy\"\n",
    "z = \"I'm\"\n",
    "print(str.maketrans(x, y, z))\n",
    "# Output is>>\n",
    "# {76: 90, 111: 97, 118: 112, 101: 112, 114: 121, 73: None, 39: None, 109: None}\n",
    "\n",
    "\n",
    "c = \"I'm Data Lover!\"\n",
    "demoDict = {76: 90, 111: 97, 118: 112, 101: 112, 114: 121, 73: None, 39: None, 109: None}\n",
    "print(c.translate(demoDict))\n",
    "# Output is>>\n",
    "#  Data Zappy!"
   ]
  },
  {
   "cell_type": "markdown",
   "id": "82aef8c8",
   "metadata": {},
   "source": [
    "## 33. encode()"
   ]
  },
  {
   "cell_type": "code",
   "execution_count": 36,
   "id": "185636d6",
   "metadata": {},
   "outputs": [
    {
     "name": "stdout",
     "output_type": "stream",
     "text": [
      "b'Dinaz'\n",
      "b'Dinaz'\n",
      "b'Dinaz'\n",
      "b'Dinaz'\n"
     ]
    }
   ],
   "source": [
    "# Definition and Usage:\n",
    "# The encode() method encodes the string, using the specified encoding. If no encoding is specified, UTF-8 will be used.\n",
    "\n",
    "# Syntax:\n",
    "# string.encode(encoding=encoding, errors=errors)\n",
    "\n",
    "# Parameter:\n",
    "# encoding is Optional. A String specifying the encoding to use. Default is UTF-8\n",
    "# errors is Optional. A String specifying the error method. Legal values are:\n",
    "#                     'backslashreplace'- uses a backslash instead of the character that could not be encoded\n",
    "#                     'ignore'- ignores the characters that cannot be encoded\n",
    "#                     'namereplace'- replaces the character with a text explaining the character\n",
    "#                     'strict'- Default, raises an error on failure\n",
    "#                     'replace'- replaces the character with a questionmark\n",
    "#                     'xmlcharrefreplace'- replaces the character with an xml character\n",
    "\n",
    "c = \"Dinaz\"\n",
    "\n",
    "print(c.encode())\n",
    "# Output is>>\n",
    "# b'Dinaz'\n",
    "\n",
    "print(c.encode(encoding=\"ascii\", errors=\"namereplace\"))\n",
    "# Output is>>\n",
    "# b'Dinaz'\n",
    "\n",
    "print(c.encode(errors=\"strict\"))\n",
    "# Output is>>\n",
    "# b'Dinaz'\n",
    "\n",
    "print(c.encode(encoding=\"ascii\"))\n",
    "# Output is>>\n",
    "# b'Dinaz'"
   ]
  },
  {
   "cell_type": "markdown",
   "id": "8bbe8a44",
   "metadata": {},
   "source": [
    "## 34. maketrans()"
   ]
  },
  {
   "cell_type": "code",
   "execution_count": 37,
   "id": "7bfc48c3",
   "metadata": {},
   "outputs": [
    {
     "name": "stdout",
     "output_type": "stream",
     "text": [
      "{76: 90, 111: 97, 118: 112, 101: 112, 114: 121}\n",
      "I am Data Zappy!\n",
      "I am Data Zappy!\n",
      "{76: 90, 111: 97, 118: 112, 101: 112, 114: 121, 73: None, 39: None, 109: None}\n",
      " Data Zappy!\n"
     ]
    }
   ],
   "source": [
    "# Definition and Usage:\n",
    "# The maketrans() method returns a mapping table that can be used with the translate() method to replace specified characters.\n",
    "\n",
    "# Syntax:\n",
    "# str.maketrans(x, y, z)\n",
    "\n",
    "# Parameter:\n",
    "# x is Required. If only one parameter is specified, this has to be a dictionary describing how to perform the replace. \n",
    "#                If two or more parameters are specified, this parameter has to be a string specifying the characters you want to replace.\n",
    "# y is Optional. A string with the same length as parameter x.\n",
    "#                Each character in the first parameter will be replaced with the corresponding character in this string.\n",
    "# z is Optional. A string describing which characters to remove from the original string.\n",
    "\n",
    "\n",
    "c = \"I am Data Lover!\"\n",
    "x = \"Lover\"\n",
    "y = \"Zappy\"\n",
    "print(str.maketrans(x, y))\n",
    "# Output is>>\n",
    "# {76: 90, 111: 97, 118: 112, 101: 112, 114: 121}\n",
    "\n",
    "\n",
    "mytable = str.maketrans({76: 90, 111: 97, 118: 112, 101: 112, 114: 121})\n",
    "print(c.translate(mytable))\n",
    "# Output is>>\n",
    "# I am Data Zappy!\n",
    "\n",
    "\n",
    "c = \"I am Data Lover!\"\n",
    "x = \"Lover\"\n",
    "y = \"Zappy\"\n",
    "mytable = str.maketrans(x, y)\n",
    "print(c.translate(mytable))\n",
    "# Output is>>\n",
    "# I am Data Zappy!\n",
    "\n",
    "\n",
    "c = \"I'm Data Lover!\"\n",
    "x = \"Lover\"\n",
    "y = \"Zappy\"\n",
    "z = \"I'm\"\n",
    "print(str.maketrans(x, y, z))\n",
    "# Output is>>\n",
    "# {76: 90, 111: 97, 118: 112, 101: 112, 114: 121, 73: None, 39: None, 109: None}\n",
    "\n",
    "\n",
    "c = \"I'm Data Lover!\"\n",
    "x = \"Lover\"\n",
    "y = \"Zappy\"\n",
    "z = \"I'm\"\n",
    "mytable = str.maketrans(x, y, z)\n",
    "print(c.translate(mytable))\n",
    "# Output is>>\n",
    "#  Data Zappy!"
   ]
  },
  {
   "cell_type": "markdown",
   "id": "c7f95513",
   "metadata": {},
   "source": [
    "## 35. format()"
   ]
  },
  {
   "cell_type": "code",
   "execution_count": 38,
   "id": "c2829281",
   "metadata": {},
   "outputs": [
    {
     "name": "stdout",
     "output_type": "stream",
     "text": [
      "My name is Dhanshri Jangam and I'm Data Scientist.\n",
      "My name is Dhanshri Jangam and I'm Data Scientist.\n",
      "My name is Dhanshri Jangam and I'm Data Scientist.\n",
      "My name is Dhanshri Jangam and I'm Data Scientist.\n",
      "My name is Dhanshri Jangam and I'm Data Scientist.\n",
      "My name is Dhanshri Jangam and I'm Data Scientist.\n",
      "I've done 5 projects\n"
     ]
    }
   ],
   "source": [
    "# Definition and Usage:\n",
    "# The format() method formats the specified value(s) and insert them inside the string's placeholder.\n",
    "# The placeholder is defined using curly brackets: {}. Read more about the placeholders in the Placeholder section below.\n",
    "# The format() method returns the formatted string.\n",
    "\n",
    "# Syntax:\n",
    "# string.format(value1, value2...)\n",
    "\n",
    "# Parameter:\n",
    "# value1, value2...are Required. One or more values that should be formatted and inserted in the string.\n",
    "#         The values are either a list of values separated by commas, a key=value list, or a combination of both.\n",
    "#         The values can be of any data type.\n",
    "\n",
    "# The Placeholders:\n",
    "# The placeholders can be identified using named indexes {price}, numbered indexes {0}, or even empty placeholders {}.\n",
    "\n",
    "\n",
    "#named indexes\n",
    "c = \"My name is {name} and I'm {role}\"\n",
    "print(c.format(name=\"Dhanshri Jangam\",role=\"Data Scientist.\"))\n",
    "# Output is>>\n",
    "# My name is Dhanshri Jangam and I'm Data Scientist.\n",
    "\n",
    "#                     OR\n",
    "\n",
    "print(\"My name is {name} and I'm {role}\".format(name=\"Dhanshri Jangam\",role=\"Data Scientist.\"))\n",
    "# Output is>>\n",
    "# My name is Dhanshri Jangam and I'm Data Scientist.\n",
    "\n",
    "\n",
    "#numbered indexes\n",
    "c = \"My name is {0} and I'm {1}\"\n",
    "print(c.format(\"Dhanshri Jangam\",\"Data Scientist.\"))\n",
    "# Output is>>\n",
    "# My name is Dhanshri Jangam and I'm Data Scientist.\n",
    "\n",
    "\n",
    "#                     OR\n",
    "print(\"My name is {0} and I'm {1}\".format(\"Dhanshri Jangam\",\"Data Scientist.\"))\n",
    "# Output is>>\n",
    "# My name is Dhanshri Jangam and I'm Data Scientist.\n",
    "\n",
    "\n",
    "\n",
    "#empty placeholders\n",
    "c = \"My name is {} and I'm {}\"\n",
    "print(c.format(\"Dhanshri Jangam\",\"Data Scientist.\"))\n",
    "# Output is>>\n",
    "# My name is Dhanshri Jangam and I'm Data Scientist.\n",
    "\n",
    "\n",
    "#                     OR\n",
    "print(\"My name is {} and I'm {}\".format(\"Dhanshri Jangam\",\"Data Scientist.\"))\n",
    "# Output is>>\n",
    "# My name is Dhanshri Jangam and I'm Data Scientist.\n",
    "\n",
    "\n",
    "\n",
    "\n",
    "# Formatting Types\n",
    "# Inside the placeholders you can add a formatting type to format the result:\n",
    "\n",
    "# :< Left aligns the result (within the available space)\n",
    "# :> Right aligns the result (within the available space)\n",
    "# :^ Center aligns the result (within the available space)\n",
    "# := Places the sign to the left most position\n",
    "# :+ Use a plus sign to indicate if the result is positive or negative\n",
    "# :- Use a minus sign for negative values only\n",
    "# :  Use a space to insert an extra space before positive numbers (and a minus sign before negative numbers)\n",
    "# :, Use a comma as a thousand separator\n",
    "# :_ Use a underscore as a thousand separator\n",
    "# :b Binary format\n",
    "# :c Converts the value into the corresponding unicode character\n",
    "# :d Decimal format\n",
    "# :e Scientific format, with a lower case e\n",
    "# :E Scientific format, with an upper case E\n",
    "# :f Fix point number format\n",
    "# :F Fix point number format, in uppercase format (show inf and nan as INF and NAN)\n",
    "# :g General format\n",
    "# :G General format (using a upper case E for scientific notations)\n",
    "# :o Octal format\n",
    "# :x Hex format, lower case\n",
    "# :X Hex format, upper case\n",
    "# :n Number format\n",
    "# :% Percentage format\n",
    "\n",
    "\n",
    "\n",
    "#for binary to decimal conversion format\n",
    "c = \"I've done {:d} projects\"\n",
    "print(c.format(0b101))\n",
    "# Output is>>\n",
    "# I've done 5 projects"
   ]
  },
  {
   "cell_type": "markdown",
   "id": "da75c4ba",
   "metadata": {},
   "source": [
    "## 36. format_map()"
   ]
  },
  {
   "cell_type": "code",
   "execution_count": 39,
   "id": "03b0351a",
   "metadata": {},
   "outputs": [
    {
     "name": "stdout",
     "output_type": "stream",
     "text": [
      "My full name is Dhanshri Jangam\n",
      "Dhanshri have done 3 projects, Shruti have done 4 projects and Shraddha have done 5 projects.\n"
     ]
    }
   ],
   "source": [
    "# Definition and Usage:\n",
    "# Python String format_map() method is an inbuilt function in Python, which is used to return a dictionary key’s value.\n",
    "\n",
    "# Syntax: \n",
    "# string.format_map(z)\n",
    "\n",
    "# Parameters: \n",
    "# input_dict is required: Takes a single parameter which is the input dictionary.\n",
    "# Here z is a variable in which the input dictionary is stored and string is the key of the input dictionary.\n",
    "\n",
    "# Returns: \n",
    "# Returns key’s values of the input dictionary.\n",
    "\n",
    "\n",
    "d = {\"firstname\":\"Dhanshri\",\"lastname\":\"Jangam\"}\n",
    "c = \"My full name is {firstname} {lastname}\"\n",
    "print(c.format_map(d))\n",
    "# Output is>>\n",
    "# My full name is Dhanshri Jangam\n",
    "\n",
    "\n",
    "d = {\"name\":[\"Dhanshri\",\"Shruti\",\"Shraddha\"],\"projects\":[3,4,5]}\n",
    "c = \"{name[0]} have done {projects[0]} projects, {name[1]} have done {projects[1]} projects and {name[2]} have done {projects[2]} projects.\"\n",
    "print(c.format_map(d))\n",
    "# Output is>>\n",
    "# Dhanshri have done 3 projects, Shruti have done 4 projects and Shraddha have done 5 projects."
   ]
  },
  {
   "cell_type": "markdown",
   "id": "a05415a4",
   "metadata": {},
   "source": [
    "## 37. isalnum()"
   ]
  },
  {
   "cell_type": "code",
   "execution_count": 40,
   "id": "aba7993d",
   "metadata": {},
   "outputs": [
    {
     "name": "stdout",
     "output_type": "stream",
     "text": [
      "True\n",
      "False\n",
      "False\n"
     ]
    }
   ],
   "source": [
    "# Definition and Usage:\n",
    "# The isalnum() method returns True if all the characters are alphanumeric, meaning alphabet letter (a-z) and numbers (0-9).\n",
    "# Example of characters that are not alphanumeric: (space)!#%&? etc.\n",
    "\n",
    "# Syntax:\n",
    "# string.isalnum()\n",
    "\n",
    "# Parameter \n",
    "# No parameters.\n",
    "\n",
    "c = \"Data\"\n",
    "print(c.isalnum())\n",
    "# Output is>>\n",
    "# True\n",
    "\n",
    "c = \"Data Science\"\n",
    "print(c.isalnum())\n",
    "# Output is>>\n",
    "# False\n",
    "\n",
    "c = \"Dhanshri - Data Scientist\"\n",
    "print(c.isalnum())\n",
    "# Output is>>\n",
    "# False"
   ]
  },
  {
   "cell_type": "markdown",
   "id": "c4108265",
   "metadata": {},
   "source": [
    "## 38. isascii()"
   ]
  },
  {
   "cell_type": "code",
   "execution_count": 41,
   "id": "05d1fd91",
   "metadata": {},
   "outputs": [
    {
     "name": "stdout",
     "output_type": "stream",
     "text": [
      "True\n",
      "True\n",
      "True\n"
     ]
    }
   ],
   "source": [
    "# Definition and Usage:\n",
    "# The isascii() method returns True if all the characters are ascii characters  (a-z).\n",
    "\n",
    "# Syntax:\n",
    "# string.isascii()\n",
    "\n",
    "# Parameter:\n",
    "# No parameters.\n",
    "\n",
    "c = \"Dhanshri\"\n",
    "print(c.isascii())\n",
    "# Output is>>\n",
    "# True\n",
    "\n",
    "c = \"0511\"\n",
    "print(c.isascii())\n",
    "# Output is>>\n",
    "# True\n",
    "\n",
    "c = \"$@$\"\n",
    "print(c.isascii())\n",
    "# Output is>>\n",
    "# True"
   ]
  },
  {
   "cell_type": "markdown",
   "id": "f7f72778",
   "metadata": {},
   "source": [
    "## 39. isdecimal()"
   ]
  },
  {
   "cell_type": "code",
   "execution_count": 42,
   "id": "56bc6285",
   "metadata": {},
   "outputs": [
    {
     "name": "stdout",
     "output_type": "stream",
     "text": [
      "True\n",
      "False\n",
      "True\n",
      "False\n"
     ]
    }
   ],
   "source": [
    "# Definition and Usage:\n",
    "# The isdecimal() method returns True if all the characters are decimals (0-9).\n",
    "# This method can also be used on unicode objects.\n",
    "\n",
    "# Syntax:\n",
    "# string.isdecimal()\n",
    "\n",
    "# Parameter:\n",
    "# No parameters.\n",
    "\n",
    "c = \"123456789\"\n",
    "print(c.isdecimal())\n",
    "# Output is>>\n",
    "# True\n",
    "\n",
    "c = \"dhanshrijangam5@gmail.com\"\n",
    "print(c.isdecimal())\n",
    "# Output is>>\n",
    "# False\n",
    "\n",
    "c = \"\\u0030\" #unicode for 0\n",
    "print(c.isdecimal())\n",
    "# Output is>>\n",
    "# True\n",
    "\n",
    "c = \"\\u00B2\" #unicode for ²\n",
    "print(c.isdecimal())\n",
    "# Output is>>\n",
    "# False"
   ]
  },
  {
   "cell_type": "markdown",
   "id": "36f3eb7b",
   "metadata": {},
   "source": [
    "## 40. isdigit()"
   ]
  },
  {
   "cell_type": "code",
   "execution_count": 43,
   "id": "77c48ddd",
   "metadata": {},
   "outputs": [
    {
     "name": "stdout",
     "output_type": "stream",
     "text": [
      "True\n",
      "True\n",
      "True\n",
      "False\n"
     ]
    }
   ],
   "source": [
    "# Definition and Usage:\n",
    "# The isdigit() method returns True if all the characters are digits, otherwise False.\n",
    "# Exponents, like ², are also considered to be a digit.\n",
    "\n",
    "# Syntax:\n",
    "# string.isdigit()\n",
    "\n",
    "# Parameter:\n",
    "# No parameters.\n",
    "\n",
    "c = \"1234567890\"\n",
    "print(c.isdigit())\n",
    "# Output is>>\n",
    "# True\n",
    "\n",
    "c = \"\\u0030\" #unicode for 0\n",
    "print(c.isdigit())\n",
    "# Output is>>\n",
    "# True\n",
    "\n",
    "c = \"\\u00B2\" #unicode for ²\n",
    "print(c.isdigit())\n",
    "# Output is>>\n",
    "# True\n",
    "\n",
    "c = \"dhanshrijangam5@gmail.com\"\n",
    "print(c.isdigit())\n",
    "# Output is>>\n",
    "# False"
   ]
  },
  {
   "cell_type": "markdown",
   "id": "49b19e93",
   "metadata": {},
   "source": [
    "## 41. isidentifier()"
   ]
  },
  {
   "cell_type": "code",
   "execution_count": 44,
   "id": "9a454e34",
   "metadata": {},
   "outputs": [
    {
     "name": "stdout",
     "output_type": "stream",
     "text": [
      "True\n",
      "False\n"
     ]
    }
   ],
   "source": [
    "# Definition and Usage:\n",
    "# The isidentifier() method returns True if the string is a valid identifier, otherwise False.\n",
    "# A string is considered a valid identifier if it only contains alphanumeric letters (a-z) and (0-9), or underscores (_).\n",
    "# A valid identifier cannot start with a number, or contain any spaces.\n",
    "\n",
    "# Syntax:\n",
    "# string.isidentifier()\n",
    "\n",
    "# Parameter:\n",
    "# No parameters.\n",
    "\n",
    "c = \"num1\"\n",
    "print(c.isidentifier())\n",
    "# Output is>>\n",
    "# True\n",
    "\n",
    "c = \"1num\"\n",
    "print(c.isidentifier())\n",
    "# Output is>>\n",
    "# False"
   ]
  },
  {
   "cell_type": "markdown",
   "id": "c84066b4",
   "metadata": {},
   "source": [
    "## 42. isnumeric()"
   ]
  },
  {
   "cell_type": "code",
   "execution_count": 45,
   "id": "6a111271",
   "metadata": {},
   "outputs": [
    {
     "name": "stdout",
     "output_type": "stream",
     "text": [
      "True\n",
      "False\n",
      "True\n"
     ]
    }
   ],
   "source": [
    "# Definition and Usage:\n",
    "# The isnumeric() method returns True if all the characters are numeric (0-9), otherwise False.\n",
    "# Exponents, like ² and ¾ are also considered to be numeric values.\n",
    "# \"-1\" and \"1.5\" are NOT considered numeric values, because all the characters in the string must be numeric, and the - and the . are not.\n",
    "\n",
    "# Syntax:\n",
    "# string.isnumeric()\n",
    "\n",
    "# Parameter:\n",
    "# No parameters.\n",
    "\n",
    "c = \"123\"\n",
    "print(c.isnumeric())\n",
    "# Output is>>\n",
    "# True\n",
    "\n",
    "c = \"-123\"\n",
    "print(c.isnumeric())\n",
    "# Output is>>\n",
    "# False\n",
    "\n",
    "c = \"\\u00B2\" #unicode for ²\n",
    "print(c.isnumeric())\n",
    "# Output is>>\n",
    "# True"
   ]
  },
  {
   "cell_type": "markdown",
   "id": "3a1b5903",
   "metadata": {},
   "source": [
    "## 43. isprintable()"
   ]
  },
  {
   "cell_type": "code",
   "execution_count": 46,
   "id": "50396a3b",
   "metadata": {},
   "outputs": [
    {
     "name": "stdout",
     "output_type": "stream",
     "text": [
      "False\n",
      "False\n",
      "True\n"
     ]
    }
   ],
   "source": [
    "# Definition and Usage:\n",
    "# The isprintable() method returns True if all the characters are printable, otherwise False.\n",
    "# Example of none printable character can be carriage return and line feed.\n",
    "\n",
    "# Syntax:\n",
    "# string.isprintable()\n",
    "\n",
    "# Parameter:\n",
    "# No parameters.\n",
    "\n",
    "c = \"Hello!\\nAre you #1?\"\n",
    "print(c.isprintable())\n",
    "# Output is>>\n",
    "# False\n",
    "\n",
    "c = \"Hello!\\t Are you #1?\"\n",
    "print(c.isprintable())\n",
    "# Output is>>\n",
    "# False\n",
    "\n",
    "c = \"Hello! Are you #1?\"\n",
    "print(c.isprintable())\n",
    "# Output is>>\n",
    "# True"
   ]
  },
  {
   "cell_type": "markdown",
   "id": "959d4018",
   "metadata": {},
   "source": [
    "## 44. isspace()"
   ]
  },
  {
   "cell_type": "code",
   "execution_count": 47,
   "id": "1104f367",
   "metadata": {},
   "outputs": [
    {
     "name": "stdout",
     "output_type": "stream",
     "text": [
      "False\n",
      "False\n",
      "True\n",
      "True\n"
     ]
    }
   ],
   "source": [
    "# Definition and Usage:\n",
    "# The isspace() method returns True if all the characters in a string are whitespaces, otherwise False.\n",
    "\n",
    "# Syntax:\n",
    "# string.isspace()\n",
    "\n",
    "# Parameter:\n",
    "# No parameters.2\n",
    "\n",
    "c = \"DhanshriJangam\"\n",
    "print(c.isspace())\n",
    "# Output is>>\n",
    "# False\n",
    "\n",
    "c = \"Dhanshri Jangam\"\n",
    "print(c.isspace())\n",
    "# Output is>>\n",
    "# False\n",
    "\n",
    "c = \"          \"\n",
    "print(c.isspace())\n",
    "# Output is>>\n",
    "# True\n",
    "\n",
    "c = \"  \"\n",
    "print(c.isspace())\n",
    "# Output is>>\n",
    "# True"
   ]
  },
  {
   "cell_type": "markdown",
   "id": "8e6ce397",
   "metadata": {},
   "source": [
    "## 45. join()"
   ]
  },
  {
   "cell_type": "code",
   "execution_count": 48,
   "id": "95a7fea5",
   "metadata": {},
   "outputs": [
    {
     "name": "stdout",
     "output_type": "stream",
     "text": [
      "Y o u   a r e   D a t a   E n t h u s i a t i c .\n",
      "Y*o*u* *a*r*e* *D*a*t*a* *E*n*t*h*u*s*i*a*t*i*c*.\n"
     ]
    }
   ],
   "source": [
    "# Definition and Usage:\n",
    "# The join() method takes all items in an iterable and joins them into one string.\n",
    "# A string must be specified as the separator.\n",
    "\n",
    "# Syntax:\n",
    "# string.join(iterable)\n",
    "\n",
    "# Parameter:\n",
    "# iterable is Required. Any iterable object where all the returned values are strings\n",
    "\n",
    "c = \"You are Data Enthusiatic.\"\n",
    "print(\" \".join(c))\n",
    "# Output is>>\n",
    "# Y o u   a r e   D a t a   E n t h u s i a t i c .\n",
    "\n",
    "c = \"You are Data Enthusiatic.\"\n",
    "print(\"*\".join(c))\n",
    "# Output is>>\n",
    "# Y*o*u* *a*r*e* *D*a*t*a* *E*n*t*h*u*s*i*a*t*i*c*."
   ]
  },
  {
   "cell_type": "markdown",
   "id": "cc668317",
   "metadata": {},
   "source": [
    "## 46. expandtabs()"
   ]
  },
  {
   "cell_type": "code",
   "execution_count": 49,
   "id": "7f5cc8bd",
   "metadata": {},
   "outputs": [
    {
     "name": "stdout",
     "output_type": "stream",
     "text": [
      " A                   B                   C                   D \n",
      " A              B              C              D \n",
      " A       B       C       D \n",
      " A   B   C   D \n"
     ]
    }
   ],
   "source": [
    "# Definition and Usage:\n",
    "# The expandtabs() method sets the tab size to the specified number of whitespaces.\n",
    "\n",
    "# Syntax:\n",
    "# string.expandtabs(tabsize)\n",
    "\n",
    "# Parameter Values:\n",
    "# tabsize is Optional. A number specifying the tabsize. Default tabsize is 8\n",
    "\n",
    "c = ' A \\t B \\t C \\t D '\n",
    "print(c.expandtabs(20))\n",
    "# Output is>>\n",
    "#  A                   B                   C                   D                   E                   F                   G \n",
    "\n",
    "\n",
    "print(c.expandtabs(15))\n",
    "# Output is>>\n",
    "#  A              B              C              D              E              F              G \n",
    "\n",
    "print(c.expandtabs())\n",
    "# Output is>>\n",
    "#  A       B       C       D       E       F       G \n",
    "\n",
    "\n",
    "print(c.expandtabs(4))\n",
    "# Output is>>\n",
    "#  A   B   C   D   E   F   G "
   ]
  },
  {
   "cell_type": "markdown",
   "id": "aff613eb",
   "metadata": {},
   "source": [
    "## 47. zfill()"
   ]
  },
  {
   "cell_type": "code",
   "execution_count": 50,
   "id": "d8b4b1d9",
   "metadata": {},
   "outputs": [
    {
     "name": "stdout",
     "output_type": "stream",
     "text": [
      "00000Dhanshri Jangam\n",
      "Dhanshri Jangam\n"
     ]
    }
   ],
   "source": [
    "# Definition and Usage:\n",
    "# The zfill() method adds zeros (0) at the beginning of the string, until it reaches the specified length.\n",
    "# If the value of the len parameter is less than the length of the string, no filling is done.\n",
    "\n",
    "# Syntax:\n",
    "# string.zfill(len)\n",
    "\n",
    "# Parameter:\n",
    "# len is Required. A number specifying the desired length of the string\n",
    "\n",
    "c = \"Dhanshri Jangam\"\n",
    "print(c.zfill(20))\n",
    "# Output is>>\n",
    "# 00000Dhanshri Jangam\n",
    "\n",
    "c = \"Dhanshri Jangam\"\n",
    "print(c.zfill(5))\n",
    "# Output is>>\n",
    "# Dhanshri Jangam"
   ]
  }
 ],
 "metadata": {
  "kernelspec": {
   "display_name": "Python 3 (ipykernel)",
   "language": "python",
   "name": "python3"
  },
  "language_info": {
   "codemirror_mode": {
    "name": "ipython",
    "version": 3
   },
   "file_extension": ".py",
   "mimetype": "text/x-python",
   "name": "python",
   "nbconvert_exporter": "python",
   "pygments_lexer": "ipython3",
   "version": "3.10.9"
  }
 },
 "nbformat": 4,
 "nbformat_minor": 5
}
